{
 "cells": [
  {
   "cell_type": "markdown",
   "metadata": {},
   "source": [
    "# Лабораторная работа 3.1"
   ]
  },
  {
   "cell_type": "markdown",
   "metadata": {},
   "source": [
    "## Счастливый билетик\n",
    "\n",
    "![](http://f2.mylove.ru/UNiHT7dRJ4.jpg)\n",
    "\n",
    "Билет считается счастливым, если выполнено следующее условие: сумма первых трёх цифр номера равна сумме последних трёх цифр.\n",
    "\n",
    "**Задание:**\n",
    "\n",
    "1) Определите число `ticket_number` — шестизначный номер билета;\n",
    "\n",
    "2) Напишите код, который по шестизначному номеру `ticket_number` билетика проверяет, является ли он счастливым;\n",
    "\n",
    "3) Если номер счастливый, выведите строку `Yes`, иначе — `No`.\n",
    "\n",
    "---\n",
    "\n",
    "**Пример 1:**\n",
    "\n",
    "*Input:* 123456\n",
    "\n",
    "*Output:* No\n",
    "\n",
    "\n",
    "**Пример 2:**\n",
    "\n",
    "*Input:* 123042\n",
    "\n",
    "*Output:* Yes"
   ]
  },
  {
   "cell_type": "code",
   "execution_count": null,
   "metadata": {
    "collapsed": true
   },
   "outputs": [],
   "source": [
    "ticket_number = # any 6-digit number"
   ]
  },
  {
   "cell_type": "code",
   "execution_count": 5,
   "metadata": {},
   "outputs": [
    {
     "name": "stdout",
     "output_type": "stream",
     "text": [
      "No\n"
     ]
    }
   ],
   "source": [
    "def ticket_number(ticket):\n",
    "    ticket = str(ticket)\n",
    "    IS = int(ticket[0]) + int(ticket[1]) + int(ticket[2]) == int(ticket[3]) + int(ticket[4]) + int(ticket[5])\n",
    "    if IS:\n",
    "        print(\"Yes\")\n",
    "    else:\n",
    "        print(\"No\")\n",
    "        \n",
    "ticket_number(123456)"
   ]
  },
  {
   "cell_type": "markdown",
   "metadata": {},
   "source": [
    "## Пароль\n",
    "\n",
    "![](http://forum.ixbt.com/post.cgi?id=attach:77:14138:1341:1)\n",
    "\n",
    "Пусть пароль может содержать только латинские буквы, знаки препинания и цифры.\n",
    "\n",
    "Пароль считается надёжным, если удовлетворяет следующим условиям:\n",
    "- содержит буквы в разных регистрах;\n",
    "- содержит цифры;\n",
    "- содержит не менее `4` уникальных символов;\n",
    "- не содержит ваше имя латинницей, записанное буквами любых регистров (anna, iVan, ...).\n",
    "\n",
    "Иначе пароль считается слабым.\n",
    "\n",
    "**Задание:**\n",
    "\n",
    "1) Определите строку `password` — придуманный вами пароль;\n",
    "\n",
    "2) Напишите код, который по паролю `password` проверяет, является ли он надёжным;\n",
    "\n",
    "3) Если пароль надёжный, выведите строку `strong`, иначе — `weak`.\n",
    "\n",
    "\n",
    "---\n",
    "\n",
    "Пусть имя пользоватея -- Андрей.\n",
    "\n",
    "**Пример 1:**\n",
    "\n",
    "*Input:* Aandrei123\n",
    "\n",
    "*Output:* weak\n",
    "\n",
    "\n",
    "**Пример 2:**\n",
    "\n",
    "*Input:* an12dRei\n",
    "\n",
    "*Output:* strong"
   ]
  },
  {
   "cell_type": "code",
   "execution_count": null,
   "metadata": {
    "collapsed": true
   },
   "outputs": [],
   "source": [
    "password = # any password"
   ]
  },
  {
   "cell_type": "code",
   "execution_count": 6,
   "metadata": {},
   "outputs": [
    {
     "name": "stdout",
     "output_type": "stream",
     "text": [
      "strong\n"
     ]
    }
   ],
   "source": [
    "import string\n",
    "\n",
    "def is_password(pswd) -> bool:\n",
    "    if len(pswd) < 4:\n",
    "        return False\n",
    "    \n",
    "    lm, tm, zm, sm = 0, -1, 0, 0\n",
    "    \n",
    "    for pswd_ch in pswd: \n",
    "        if not(lm <= 2):\n",
    "            return False\n",
    "        \n",
    "        if pswd_ch in string.ascii_lowercase:\n",
    "            zm = 0\n",
    "            \n",
    "        elif pswd_ch in string.ascii_uppercase:\n",
    "            zm = 1\n",
    "        \n",
    "        elif pswd_ch in (string.digits +  string.punctuation + \" \"):\n",
    "            zm = 2\n",
    "        else:\n",
    "            print(\"Error: Only Latin letters, punctuation marks and numbers translation:\\\"\" +  pswd_ch + \"\\\"\")\n",
    "            return False\n",
    "        \n",
    "        if not(tm == zm):\n",
    "            tm = zm\n",
    "            lm = 0\n",
    "        \n",
    "        lm += 1\n",
    "        \n",
    "        if not ((sm & ~(2**zm)) == (2**zm)):\n",
    "            sm = sm | (2**zm)\n",
    "            \n",
    "    if sm == 7:\n",
    "        return True\n",
    "    return False\n",
    "    \n",
    "if is_password(\"an12dRei\"):\n",
    "    print(\"strong\")\n",
    "else:\n",
    "    print(\"weak\")"
   ]
  },
  {
   "cell_type": "code",
   "execution_count": null,
   "metadata": {},
   "outputs": [],
   "source": []
  },
  {
   "cell_type": "markdown",
   "metadata": {},
   "source": [
    "## Числа Фибоначчи\n",
    "Как известно, [числа Фибоначчи](https://ru.wikipedia.org/wiki/%D0%A7%D0%B8%D1%81%D0%BB%D0%B0_%D0%A4%D0%B8%D0%B1%D0%BE%D0%BD%D0%B0%D1%87%D1%87%D0%B8) — это последовательность чисел, каждое из которых равно сумме двух предыдущих (первые два числа равны $1$):\n",
    "$$\n",
    "    1, 1, 2, 3, 5, 8, 13, \\ldots\n",
    "$$\n",
    "\n",
    "**Задание:**\n",
    "\n",
    "1) Определите число `amount` — количество чисел Фибоначчи, которые надо вывести;\n",
    "\n",
    "2) Напишите код, который выводит первые `amount` чисел Фибоначчи.\n",
    "\n",
    "---\n",
    "\n",
    "**Пример 1:**\n",
    "\n",
    "*Input:* 3\n",
    "\n",
    "*Output:* 1 1 2\n",
    "\n",
    "\n",
    "**Пример 2:**\n",
    "\n",
    "*Input:* 10\n",
    "\n",
    "*Output:* 1 1 2 3 5 8 13 21 34 55\n"
   ]
  },
  {
   "cell_type": "code",
   "execution_count": null,
   "metadata": {},
   "outputs": [],
   "source": [
    "amount = # any number"
   ]
  },
  {
   "cell_type": "code",
   "execution_count": 4,
   "metadata": {},
   "outputs": [
    {
     "name": "stdout",
     "output_type": "stream",
     "text": [
      "1 1 2 "
     ]
    }
   ],
   "source": [
    "def fab(n):\n",
    "    n = int(n)\n",
    "    fab1 = fab2 = 1\n",
    "    if(n > 0):\n",
    "        print(fab1, end=\" \")\n",
    "    \n",
    "    if(n > 1):\n",
    "        print(fab2, end=\" \")\n",
    "        \n",
    "    for i in range(2, n):\n",
    "        fab1, fab2 = fab2, fab1 + fab2\n",
    "        print(fab2, end=\" \")\n",
    "        \n",
    "fab(3)"
   ]
  },
  {
   "cell_type": "markdown",
   "metadata": {},
   "source": [
    "## Время исследований\n",
    "\n",
    "![](https://2.bp.blogspot.com/-VOT5x12UqPY/WSh53tQ94HI/AAAAAAAAAMY/-nlcz28_Fj4UzJjbn4bBINKCnzwag1W4QCLcB/s1600/my-pic-widget.jpg)\n",
    "\n",
    "На сайте https://www.kaggle.com/ выберите любой набор данных в формате CSV и проведите для него маленькое исследование: загрузите данные из набора с использованием стандартного модуля `csv`, посмотрите средние значения и стандартные отклонения двух выбранных числовых атрибутов, найдите [методом наименьших квадратов](https://ru.wikipedia.org/wiki/%D0%9C%D0%B5%D1%82%D0%BE%D0%B4_%D0%BD%D0%B0%D0%B8%D0%BC%D0%B5%D0%BD%D1%8C%D1%88%D0%B8%D1%85_%D0%BA%D0%B2%D0%B0%D0%B4%D1%80%D0%B0%D1%82%D0%BE%D0%B2) уравнение линейной зависимости, связывающей один числовой атрибут с другим. Для оценки заданной зависимости найдите [коэффициент парной корреляции](https://ru.wikipedia.org/wiki/%D0%9A%D0%BE%D1%80%D1%80%D0%B5%D0%BB%D1%8F%D1%86%D0%B8%D1%8F), сделайте соответствующие выводы.\n",
    "\n",
    "**Результаты надо обязательно прокомментировать и пояснить!**\n",
    "\n",
    "---\n",
    "\n",
    "**Пример 1:**\n",
    "\n",
    "Пусть таблица `bikes.csv` содержит данные по арендам велосипедов за $2$ года:\n",
    "- `datetime`: дата и время аренды\n",
    "- `season`: время года\n",
    "- `temp`: температура воздуха по Цельсию\n",
    "- `windspeed`: скорость ветра \n",
    "- `registered`: число аренд\n",
    "\n",
    "Одно из направлений исследования могло бы заключаться в проверке зависимости суммарного числа аренд от температуры воздуха."
   ]
  },
  {
   "cell_type": "markdown",
   "metadata": {},
   "source": [
    "*в такой ячейке (режим Markdown) можно писать текст*"
   ]
  },
  {
   "cell_type": "markdown",
   "metadata": {},
   "source": [
    "Здесь должны быть кратко описаны результаты исследования и обнаруженых фактов.\n",
    "\n",
    "...\n",
    "\n",
    "...\n",
    "\n",
    "---"
   ]
  },
  {
   "attachments": {},
   "cell_type": "markdown",
   "metadata": {},
   "source": [
    "Пусть таблица `history_weather_munich.csv` содержит данные по температура за все года:\n",
    "- Termin - **дата**\n",
    "- Max. Temp. - **Максимальная температура**\n",
    "- Min. Temp. - **Минимальная Температура**\n",
    "\n",
    "Одно из направлений исследования могло бы заключаться в проверке зависимости суммарного числа температуры.\n",
    "\n"
   ]
  },
  {
   "cell_type": "code",
   "execution_count": 43,
   "metadata": {},
   "outputs": [
    {
     "name": "stdout",
     "output_type": "stream",
     "text": [
      "Мин. темп.:  min:{ -16.6 };    max:{ 22.1 };\n",
      "Max. темп.:  min:{ -10.7 };    max:{ 37.0 };\n",
      "Мин. темп. сред.:  6.08\n",
      "Max. темп. сред.:  14.38\n",
      "МНК 7.17\n",
      "Коэффициент парной корреляции 0.91\n"
     ]
    }
   ],
   "source": [
    "import os.path\n",
    "import math\n",
    "import csv\n",
    "\n",
    "def mean(list_numb : list):\n",
    "    return sum(list_numb) / len(list_numb)\n",
    "\n",
    "def variance(list_numb : list): \n",
    "    return sum([(x - mean(list_numb)) ** 2 for x in list_numb]) / (len(list_numb) - 1)\n",
    "\n",
    "def stdev(list_numb : list):\n",
    "    return math.sqrt(variance(list_numb))\n",
    "\n",
    "def mnk(a : list, b : list):\n",
    "    if len(a) != len(b):\n",
    "        print(\"Error: a != b;\")\n",
    "        return\n",
    "        \n",
    "    ab = [ x * b[k]  for k, x in enumerate(a)]\n",
    "    a2 = [ x ** 2  for x in a] \n",
    "    am = sum(a) / len(a)\n",
    "    bm = sum(b) / len(a) \n",
    "    br = (len(a) * sum(ab) - sum(a) * sum(b)) / (len(a) * sum(a2) - (sum(a) ** 2))\n",
    "    ar = bm - br * am    \n",
    "    return ar\n",
    "\n",
    "def corrcoef(a : list, b : list):\n",
    "    if len(a) != len(b):\n",
    "        print(\"Error: a != b;\")\n",
    "        return\n",
    "    \n",
    "    an = [ x - (sum(a)/len(a)) for x in a ]\n",
    "    bn = [ x - (sum(b)/len(a)) for x in b ]\n",
    "    abp = sum([ x ** 2 for x in an ]) * sum([ x ** 2 for x in bn ])\n",
    "    abq = math.sqrt(abp)\n",
    "\n",
    "    return sum([ x * bn[k]  for k, x in enumerate(an)]) / abq\n",
    "\n",
    "array_temp = { \"date\": [], \"min\": [], \"max\":[] }\n",
    "\n",
    "with open('./history_weather_munich.csv', newline='') as csvfile:\n",
    "        spamreader = csv.DictReader(csvfile, delimiter=\";\")\n",
    "        for row in spamreader:\n",
    "            array_temp[\"date\"].append(row[\"Termin\"])\n",
    "            array_temp[\"min\"].append(float(row[\"Min. Temp.\"].replace(\",\", \".\")))\n",
    "            array_temp[\"max\"].append(float(row[\"Max. Temp.\"].replace(\",\", \".\")))\n",
    "\n",
    "print(\"Мин. темп.: \", \"min:{\", min(array_temp[\"min\"]), \"};    max:{\", max(array_temp[\"min\"]), \"};\" )\n",
    "print(\"Max. темп.: \", \"min:{\", min(array_temp[\"max\"]), \"};    max:{\", max(array_temp[\"max\"]), \"};\" )\n",
    "print(\"Мин. темп. сред.: \", \"%.2f\" % mean(array_temp[\"min\"]))\n",
    "print(\"Max. темп. сред.: \", \"%.2f\" % mean(array_temp[\"max\"]))\n",
    "print(\"МНК\", \"%.2f\" % mnk(array_temp[\"min\"], array_temp[\"max\"]))\n",
    "print(\"Коэффициент парной корреляции\", \"%.2f\" % corrcoef(array_temp[\"min\"], array_temp[\"max\"]))"
   ]
  }
 ],
 "metadata": {
  "anaconda-cloud": {},
  "kernelspec": {
   "display_name": "Python 3",
   "language": "python",
   "name": "python3"
  },
  "language_info": {
   "codemirror_mode": {
    "name": "ipython",
    "version": 3
   },
   "file_extension": ".py",
   "mimetype": "text/x-python",
   "name": "python",
   "nbconvert_exporter": "python",
   "pygments_lexer": "ipython3",
   "version": "3.8.10"
  }
 },
 "nbformat": 4,
 "nbformat_minor": 1
}
